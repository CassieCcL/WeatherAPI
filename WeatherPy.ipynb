{
 "cells": [
  {
   "cell_type": "markdown",
   "metadata": {},
   "source": [
    "# WeatherPy\n",
    "----\n",
    "\n",
    "### Analysis\n",
    "* As expected, the weather becomes significantly warmer as one approaches the equator (0 Deg. Latitude). More interestingly, however, is the fact that the southern hemisphere tends to be warmer this time of year than the northern hemisphere. This may be due to the tilt of the earth.\n",
    "* There is no strong relationship between latitude and cloudiness. However, it is interesting to see that a strong band of cities sits at 0, 80, and 100% cloudiness.\n",
    "* There is no strong relationship between latitude and wind speed. However, in northern hemispheres there is a flurry of cities with over 20 mph of wind.\n",
    "\n",
    "---\n",
    "\n",
    "#### Note\n",
    "* Instructions have been included for each segment. You do not have to follow them exactly, but they are included to help you think through the steps."
   ]
  },
  {
   "cell_type": "code",
   "execution_count": 1,
   "metadata": {
    "scrolled": true
   },
   "outputs": [],
   "source": [
    "# Dependencies and Setup\n",
    "import matplotlib.pyplot as plt\n",
    "import pandas as pd\n",
    "import numpy as np\n",
    "import requests\n",
    "import time\n",
    "from pprint import pprint\n",
    "\n",
    "# Import API key\n",
    "from api_keys import api_key\n",
    "\n",
    "# Incorporated citipy to determine city based on latitude and longitude\n",
    "from citipy import citipy\n",
    "\n",
    "# Output File (CSV)\n",
    "output_data_file = \"output_data/cities.csv\"\n",
    "\n",
    "# Range of latitudes and longitudes\n",
    "lat_range = (-90, 90)\n",
    "lng_range = (-180, 180)"
   ]
  },
  {
   "cell_type": "markdown",
   "metadata": {},
   "source": [
    "## Generate Cities List"
   ]
  },
  {
   "cell_type": "code",
   "execution_count": 2,
   "metadata": {},
   "outputs": [
    {
     "data": {
      "text/plain": [
       "579"
      ]
     },
     "execution_count": 2,
     "metadata": {},
     "output_type": "execute_result"
    }
   ],
   "source": [
    "# List for holding lat_lngs and cities\n",
    "lat_lngs = []\n",
    "cities = []\n",
    "\n",
    "# Create a set of random lat and lng combinations\n",
    "lats = np.random.uniform(low=-90.000, high=90.000, size=1500)\n",
    "lngs = np.random.uniform(low=-180.000, high=180.000, size=1500)\n",
    "lat_lngs = list(zip(lats, lngs))\n",
    "\n",
    "# Identify nearest city for each lat, lng combination\n",
    "for lat_lng in lat_lngs:\n",
    "    city = citipy.nearest_city(lat_lng[0], lat_lng[1]).city_name\n",
    "    \n",
    "    # If the city is unique, then add it to a our cities list\n",
    "    if city not in cities:\n",
    "        cities.append(city)\n",
    "\n",
    "# Print the city count to confirm sufficient count\n",
    "len(cities)"
   ]
  },
  {
   "cell_type": "code",
   "execution_count": null,
   "metadata": {},
   "outputs": [],
   "source": []
  },
  {
   "cell_type": "markdown",
   "metadata": {},
   "source": [
    "### Perform API Calls\n",
    "* Perform a weather check on each city using a series of successive API calls.\n",
    "* Include a print log of each city as it'sbeing processed (with the city number and city name).\n"
   ]
  },
  {
   "cell_type": "code",
   "execution_count": 3,
   "metadata": {},
   "outputs": [
    {
     "data": {
      "text/plain": [
       "1500"
      ]
     },
     "execution_count": 3,
     "metadata": {},
     "output_type": "execute_result"
    }
   ],
   "source": [
    "len(lat_lngs)"
   ]
  },
  {
   "cell_type": "code",
   "execution_count": 31,
   "metadata": {},
   "outputs": [
    {
     "name": "stdout",
     "output_type": "stream",
     "text": [
      "mataura has been processed\n",
      "east london has been processed\n",
      "hobart has been processed\n",
      "walvis bay has been processed\n",
      "xai-xai has been processed\n",
      "vaini has been processed\n",
      "jijiga has been processed\n",
      "ixtapa has been processed\n",
      "necochea has been processed\n",
      "ginir has been processed\n",
      "butaritari has been processed\n",
      "ancud has been processed\n",
      "basco has been processed\n",
      "bambous virieux has been processed\n",
      "mahebourg has been processed\n",
      "rikitea has been processed\n",
      "bethel has been processed\n",
      "port elizabeth has been processed\n",
      "hermanus has been processed\n",
      "chokurdakh has been processed\n",
      "avarua has been processed\n"
     ]
    }
   ],
   "source": [
    "base_url=\"http://api.openweathermap.org/data/2.5/weather?\"\n",
    "humidity=[]\n",
    "temp=[]\n",
    "wind=[]\n",
    "clouds=[]\n",
    "lat=[]\n",
    "for index, city in enumerate(cities):\n",
    "    \n",
    "    if index <= 20:\n",
    "        query = f\"q={city}&units=imperial&appid={api_key}\"\n",
    "        query_url = base_url + query\n",
    "        response_weather = requests.get(query_url).json()\n",
    "\n",
    "\n",
    "        try:\n",
    "            humidity.append(response_weather[\"main\"][\"humidity\"])\n",
    "            temp.append(response_weather[\"main\"][\"temp\"])\n",
    "            wind.append(response_weather[\"wind\"][\"speed\"])\n",
    "            clouds.append(response_weather[\"clouds\"][\"all\"])\n",
    "            lat.append(response_weather[\"coord\"][\"lat\"])\n",
    "            print(f\"{city} has been processed\")\n",
    "        except:\n",
    "            humidity.append(None)\n",
    "            temp.append(None)\n",
    "            wind.append(None)\n",
    "            clouds.append(None)\n",
    "            lat.append(None)\n",
    "            print(f\"{city} has returned as None\")\n",
    "\n",
    "        \n",
    "        time.sleep(2)"
   ]
  },
  {
   "cell_type": "markdown",
   "metadata": {},
   "source": [
    "### Convert Raw Data to DataFrame\n",
    "* Export the city data into a .csv.\n",
    "* Display the DataFrame"
   ]
  },
  {
   "cell_type": "code",
   "execution_count": 32,
   "metadata": {},
   "outputs": [
    {
     "data": {
      "text/html": [
       "<div>\n",
       "<style scoped>\n",
       "    .dataframe tbody tr th:only-of-type {\n",
       "        vertical-align: middle;\n",
       "    }\n",
       "\n",
       "    .dataframe tbody tr th {\n",
       "        vertical-align: top;\n",
       "    }\n",
       "\n",
       "    .dataframe thead th {\n",
       "        text-align: right;\n",
       "    }\n",
       "</style>\n",
       "<table border=\"1\" class=\"dataframe\">\n",
       "  <thead>\n",
       "    <tr style=\"text-align: right;\">\n",
       "      <th></th>\n",
       "      <th>City</th>\n",
       "      <th>Temperature</th>\n",
       "      <th>Humidity</th>\n",
       "      <th>Wind Speed</th>\n",
       "      <th>Cloudiness</th>\n",
       "      <th>Latitudes</th>\n",
       "    </tr>\n",
       "  </thead>\n",
       "  <tbody>\n",
       "    <tr>\n",
       "      <th>0</th>\n",
       "      <td>mataura</td>\n",
       "      <td>60.48</td>\n",
       "      <td>56</td>\n",
       "      <td>7.05</td>\n",
       "      <td>99</td>\n",
       "      <td>-46.1927</td>\n",
       "    </tr>\n",
       "    <tr>\n",
       "      <th>1</th>\n",
       "      <td>east london</td>\n",
       "      <td>65.95</td>\n",
       "      <td>83</td>\n",
       "      <td>4.70</td>\n",
       "      <td>100</td>\n",
       "      <td>-33.0153</td>\n",
       "    </tr>\n",
       "    <tr>\n",
       "      <th>2</th>\n",
       "      <td>hobart</td>\n",
       "      <td>71.38</td>\n",
       "      <td>64</td>\n",
       "      <td>17.27</td>\n",
       "      <td>75</td>\n",
       "      <td>-42.8794</td>\n",
       "    </tr>\n",
       "    <tr>\n",
       "      <th>3</th>\n",
       "      <td>walvis bay</td>\n",
       "      <td>58.15</td>\n",
       "      <td>88</td>\n",
       "      <td>4.61</td>\n",
       "      <td>5</td>\n",
       "      <td>-22.9575</td>\n",
       "    </tr>\n",
       "    <tr>\n",
       "      <th>4</th>\n",
       "      <td>xai-xai</td>\n",
       "      <td>74.44</td>\n",
       "      <td>86</td>\n",
       "      <td>15.01</td>\n",
       "      <td>100</td>\n",
       "      <td>-25.0519</td>\n",
       "    </tr>\n",
       "    <tr>\n",
       "      <th>5</th>\n",
       "      <td>vaini</td>\n",
       "      <td>82.18</td>\n",
       "      <td>74</td>\n",
       "      <td>5.61</td>\n",
       "      <td>97</td>\n",
       "      <td>-21.2000</td>\n",
       "    </tr>\n",
       "    <tr>\n",
       "      <th>6</th>\n",
       "      <td>jijiga</td>\n",
       "      <td>60.67</td>\n",
       "      <td>42</td>\n",
       "      <td>7.09</td>\n",
       "      <td>5</td>\n",
       "      <td>9.3500</td>\n",
       "    </tr>\n",
       "    <tr>\n",
       "      <th>7</th>\n",
       "      <td>ixtapa</td>\n",
       "      <td>72.23</td>\n",
       "      <td>83</td>\n",
       "      <td>1.66</td>\n",
       "      <td>0</td>\n",
       "      <td>20.7000</td>\n",
       "    </tr>\n",
       "    <tr>\n",
       "      <th>8</th>\n",
       "      <td>necochea</td>\n",
       "      <td>60.42</td>\n",
       "      <td>45</td>\n",
       "      <td>12.44</td>\n",
       "      <td>4</td>\n",
       "      <td>-38.5473</td>\n",
       "    </tr>\n",
       "    <tr>\n",
       "      <th>9</th>\n",
       "      <td>ginir</td>\n",
       "      <td>56.97</td>\n",
       "      <td>50</td>\n",
       "      <td>2.42</td>\n",
       "      <td>81</td>\n",
       "      <td>7.1333</td>\n",
       "    </tr>\n",
       "  </tbody>\n",
       "</table>\n",
       "</div>"
      ],
      "text/plain": [
       "          City  Temperature  Humidity  Wind Speed  Cloudiness  Latitudes\n",
       "0      mataura        60.48        56        7.05          99   -46.1927\n",
       "1  east london        65.95        83        4.70         100   -33.0153\n",
       "2       hobart        71.38        64       17.27          75   -42.8794\n",
       "3   walvis bay        58.15        88        4.61           5   -22.9575\n",
       "4      xai-xai        74.44        86       15.01         100   -25.0519\n",
       "5        vaini        82.18        74        5.61          97   -21.2000\n",
       "6       jijiga        60.67        42        7.09           5     9.3500\n",
       "7       ixtapa        72.23        83        1.66           0    20.7000\n",
       "8     necochea        60.42        45       12.44           4   -38.5473\n",
       "9        ginir        56.97        50        2.42          81     7.1333"
      ]
     },
     "execution_count": 32,
     "metadata": {},
     "output_type": "execute_result"
    }
   ],
   "source": [
    "cityweather_df=pd.DataFrame({\n",
    "    \"City\": cities[:21],\n",
    "    \"Temperature\": temp,\n",
    "    \"Humidity\": humidity,\n",
    "    \"Wind Speed\": wind,\n",
    "    \"Cloudiness\": clouds,\n",
    "    \"Latitudes\": lat\n",
    "})\n",
    "# cityweather_df.to_csv(output_data_file)\n",
    "cityweather_df.head(10)"
   ]
  },
  {
   "cell_type": "code",
   "execution_count": 33,
   "metadata": {},
   "outputs": [
    {
     "data": {
      "text/html": [
       "<div>\n",
       "<style scoped>\n",
       "    .dataframe tbody tr th:only-of-type {\n",
       "        vertical-align: middle;\n",
       "    }\n",
       "\n",
       "    .dataframe tbody tr th {\n",
       "        vertical-align: top;\n",
       "    }\n",
       "\n",
       "    .dataframe thead th {\n",
       "        text-align: right;\n",
       "    }\n",
       "</style>\n",
       "<table border=\"1\" class=\"dataframe\">\n",
       "  <thead>\n",
       "    <tr style=\"text-align: right;\">\n",
       "      <th></th>\n",
       "      <th>City</th>\n",
       "      <th>Temperature</th>\n",
       "      <th>Humidity</th>\n",
       "      <th>Wind Speed</th>\n",
       "      <th>Cloudiness</th>\n",
       "      <th>Latitudes</th>\n",
       "    </tr>\n",
       "  </thead>\n",
       "  <tbody>\n",
       "    <tr>\n",
       "      <th>0</th>\n",
       "      <td>mataura</td>\n",
       "      <td>60.48</td>\n",
       "      <td>56</td>\n",
       "      <td>7.05</td>\n",
       "      <td>99</td>\n",
       "      <td>-46.1927</td>\n",
       "    </tr>\n",
       "    <tr>\n",
       "      <th>1</th>\n",
       "      <td>east london</td>\n",
       "      <td>65.95</td>\n",
       "      <td>83</td>\n",
       "      <td>4.70</td>\n",
       "      <td>100</td>\n",
       "      <td>-33.0153</td>\n",
       "    </tr>\n",
       "    <tr>\n",
       "      <th>2</th>\n",
       "      <td>hobart</td>\n",
       "      <td>71.38</td>\n",
       "      <td>64</td>\n",
       "      <td>17.27</td>\n",
       "      <td>75</td>\n",
       "      <td>-42.8794</td>\n",
       "    </tr>\n",
       "    <tr>\n",
       "      <th>3</th>\n",
       "      <td>walvis bay</td>\n",
       "      <td>58.15</td>\n",
       "      <td>88</td>\n",
       "      <td>4.61</td>\n",
       "      <td>5</td>\n",
       "      <td>-22.9575</td>\n",
       "    </tr>\n",
       "    <tr>\n",
       "      <th>4</th>\n",
       "      <td>xai-xai</td>\n",
       "      <td>74.44</td>\n",
       "      <td>86</td>\n",
       "      <td>15.01</td>\n",
       "      <td>100</td>\n",
       "      <td>-25.0519</td>\n",
       "    </tr>\n",
       "    <tr>\n",
       "      <th>5</th>\n",
       "      <td>vaini</td>\n",
       "      <td>82.18</td>\n",
       "      <td>74</td>\n",
       "      <td>5.61</td>\n",
       "      <td>97</td>\n",
       "      <td>-21.2000</td>\n",
       "    </tr>\n",
       "    <tr>\n",
       "      <th>6</th>\n",
       "      <td>jijiga</td>\n",
       "      <td>60.67</td>\n",
       "      <td>42</td>\n",
       "      <td>7.09</td>\n",
       "      <td>5</td>\n",
       "      <td>9.3500</td>\n",
       "    </tr>\n",
       "    <tr>\n",
       "      <th>7</th>\n",
       "      <td>ixtapa</td>\n",
       "      <td>72.23</td>\n",
       "      <td>83</td>\n",
       "      <td>1.66</td>\n",
       "      <td>0</td>\n",
       "      <td>20.7000</td>\n",
       "    </tr>\n",
       "    <tr>\n",
       "      <th>8</th>\n",
       "      <td>necochea</td>\n",
       "      <td>60.42</td>\n",
       "      <td>45</td>\n",
       "      <td>12.44</td>\n",
       "      <td>4</td>\n",
       "      <td>-38.5473</td>\n",
       "    </tr>\n",
       "    <tr>\n",
       "      <th>9</th>\n",
       "      <td>ginir</td>\n",
       "      <td>56.97</td>\n",
       "      <td>50</td>\n",
       "      <td>2.42</td>\n",
       "      <td>81</td>\n",
       "      <td>7.1333</td>\n",
       "    </tr>\n",
       "  </tbody>\n",
       "</table>\n",
       "</div>"
      ],
      "text/plain": [
       "          City  Temperature  Humidity  Wind Speed  Cloudiness  Latitudes\n",
       "0      mataura        60.48        56        7.05          99   -46.1927\n",
       "1  east london        65.95        83        4.70         100   -33.0153\n",
       "2       hobart        71.38        64       17.27          75   -42.8794\n",
       "3   walvis bay        58.15        88        4.61           5   -22.9575\n",
       "4      xai-xai        74.44        86       15.01         100   -25.0519\n",
       "5        vaini        82.18        74        5.61          97   -21.2000\n",
       "6       jijiga        60.67        42        7.09           5     9.3500\n",
       "7       ixtapa        72.23        83        1.66           0    20.7000\n",
       "8     necochea        60.42        45       12.44           4   -38.5473\n",
       "9        ginir        56.97        50        2.42          81     7.1333"
      ]
     },
     "execution_count": 33,
     "metadata": {},
     "output_type": "execute_result"
    }
   ],
   "source": [
    "# Clean up the code\n",
    "cityweather2_df=cityweather_df.dropna()\n",
    "cityweather2_df.head(10)"
   ]
  },
  {
   "cell_type": "markdown",
   "metadata": {},
   "source": [
    "### Plotting the Data\n",
    "* Use proper labeling of the plots using plot titles (including date of analysis) and axes labels.\n",
    "* Save the plotted figures as .pngs."
   ]
  },
  {
   "cell_type": "markdown",
   "metadata": {},
   "source": [
    "#### Latitude vs. Temperature Plot"
   ]
  },
  {
   "cell_type": "code",
   "execution_count": 39,
   "metadata": {},
   "outputs": [
    {
     "data": {
      "image/png": "[encoded data removed]",
      "text/plain": [
       "<Figure size 432x288 with 1 Axes>"
      ]
     },
     "metadata": {
      "needs_background": "light"
     },
     "output_type": "display_data"
    }
   ],
   "source": [
    "plt.scatter(cityweather2_df[\"Latitudes\"], cityweather2_df[\"Temperature\"], s=8, facecolor=\"red\")\n",
    "plt.xlabel(\"Latitudes\")\n",
    "plt.ylabel(\"Temperature (F)\")\n",
    "plt.title(\"Latitude vs Temperature (F)\")\n",
    "plt.savefig(\"Latitude and Temperature.png\", facecolor=\"white\")\n",
    "plt.show()"
   ]
  },
  {
   "cell_type": "markdown",
   "metadata": {},
   "source": [
    "#### Latitude vs. Humidity Plot"
   ]
  },
  {
   "cell_type": "code",
   "execution_count": 40,
   "metadata": {},
   "outputs": [
    {
     "data": {
      "image/png": "[encoded data removed]",
      "text/plain": [
       "<Figure size 432x288 with 1 Axes>"
      ]
     },
     "metadata": {
      "needs_background": "light"
     },
     "output_type": "display_data"
    }
   ],
   "source": [
    "plt.scatter(cityweather2_df[\"Latitudes\"], cityweather2_df[\"Humidity\"], s=8, facecolor=\"green\")\n",
    "plt.xlabel(\"Latitudes\")\n",
    "plt.ylabel(\"Humidity (%)\")\n",
    "plt.title(\"Latitudes vs Humidity (%)\")\n",
    "plt.savefig(\"Latitude and Humidity.png\")\n",
    "plt.show()"
   ]
  },
  {
   "cell_type": "markdown",
   "metadata": {},
   "source": [
    "#### Latitude vs. Cloudiness Plot"
   ]
  },
  {
   "cell_type": "code",
   "execution_count": 41,
   "metadata": {},
   "outputs": [
    {
     "data": {
      "image/png": "[encoded data removed]",
      "text/plain": [
       "<Figure size 432x288 with 1 Axes>"
      ]
     },
     "metadata": {
      "needs_background": "light"
     },
     "output_type": "display_data"
    }
   ],
   "source": [
    "plt.scatter(cityweather2_df[\"Latitudes\"], cityweather2_df[\"Cloudiness\"], s=8, facecolor=\"blue\")\n",
    "plt.xlabel(\"Latitudes\")\n",
    "plt.ylabel(\"Cloudiness (%)\")\n",
    "plt.title(\"Latitudes vs Cloudiness (%)\")\n",
    "plt.savefig(\"Latitude and Cloudiness.png\")\n",
    "plt.show()"
   ]
  },
  {
   "cell_type": "markdown",
   "metadata": {},
   "source": [
    "#### Latitude vs. Wind Speed Plot"
   ]
  },
  {
   "cell_type": "code",
   "execution_count": 42,
   "metadata": {},
   "outputs": [
    {
     "data": {
      "image/png": "[encoded data removed]",
      "text/plain": [
       "<Figure size 432x288 with 1 Axes>"
      ]
     },
     "metadata": {
      "needs_background": "light"
     },
     "output_type": "display_data"
    }
   ],
   "source": [
    "plt.scatter(cityweather2_df[\"Latitudes\"], cityweather2_df[\"Wind Speed\"], s=8, facecolor=\"orange\")\n",
    "plt.xlabel(\"Latitudes\")\n",
    "plt.ylabel(\"Wind Speed (mph)\")\n",
    "plt.title(\"Latitudes vs Wind Speed (mph)\")\n",
    "plt.savefig(\"Latitude and Wind.png\")\n",
    "plt.show()"
   ]
  },
  {
   "cell_type": "code",
   "execution_count": null,
   "metadata": {},
   "outputs": [],
   "source": []
  }
 ],
 "metadata": {
  "anaconda-cloud": {},
  "kernelspec": {
   "display_name": "Python 3",
   "language": "python",
   "name": "python3"
  },
  "language_info": {
   "codemirror_mode": {
    "name": "ipython",
    "version": 3
   },
   "file_extension": ".py",
   "mimetype": "text/x-python",
   "name": "python",
   "nbconvert_exporter": "python",
   "pygments_lexer": "ipython3",
   "version": "3.8.8"
  }
 },
 "nbformat": 4,
 "nbformat_minor": 2
}
